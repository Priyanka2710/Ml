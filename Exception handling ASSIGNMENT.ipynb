{
 "cells": [
  {
   "cell_type": "markdown",
   "metadata": {},
   "source": [
    "1.Write a function to compute 5/0 \n",
    "and use try/except to catch the \n",
    "exceptions."
   ]
  },
  {
   "cell_type": "code",
   "execution_count": 1,
   "metadata": {},
   "outputs": [
    {
     "name": "stdout",
     "output_type": "stream",
     "text": [
      "enter numerator5\n",
      "enter denomenator5\n",
      "1.0\n",
      "finally i executed\n",
      "enter numerator5\n",
      "enter denomenator0\n",
      "you cant divide by 0 \n",
      "finally i executed\n"
     ]
    }
   ],
   "source": [
    "def my_divide():\n",
    "    while True:\n",
    "        try:\n",
    "            num1=input(\"enter numerator\")\n",
    "            num2=input(\"enter denomenator\")\n",
    "            ans=int(num1)/int(num2)\n",
    "        except:\n",
    "            print(\"you cant divide by 0 \")\n",
    "            break\n",
    "        else:\n",
    "            print(ans)\n",
    "        finally:\n",
    "            print(\"Finally,I executed!\")\n",
    "my_divide()\n",
    "    "
   ]
  },
  {
   "cell_type": "markdown",
   "metadata": {},
   "source": [
    "2.Implement a Python \n",
    "program to generate all sentences where \n",
    "subject is in [\"Americans\",\"Indians\"] and \n",
    "verb is in [\"Play\", \"watch\"] and the \n",
    "object is in [\"Baseball\",\"cricket\"].\n",
    "Hint: Subject,Verb and Object should \n",
    "be declared in the program as shown \n",
    "below.\n",
    "subjects=[\"Americans \",\"Indians\"]\n",
    "verbs=[\"play\",\"watch\"]\n",
    "objects=[\"Baseball\",\"Cricket\"]\n",
    "Output should come as below:\n",
    "Americans play Baseball.\n",
    "Americans play Cricket.\n",
    "Americans watch Baseball.\n",
    "Americans watch Cricket.\n",
    "Indians play Baseball.\n",
    "Indians play Cricket.\n",
    "Indians watch Baseball.\n",
    "Indians watch Cricket."
   ]
  },
  {
   "cell_type": "code",
   "execution_count": 1,
   "metadata": {},
   "outputs": [
    {
     "name": "stdout",
     "output_type": "stream",
     "text": [
      "American play Baseball\n",
      "American play Cricket\n",
      "American watch Baseball\n",
      "American watch Cricket\n",
      "Indian play Baseball\n",
      "Indian play Cricket\n",
      "Indian watch Baseball\n",
      "Indian watch Cricket\n"
     ]
    }
   ],
   "source": [
    "subs=[\"American\",\"Indian\"]\n",
    "verbs=[\"play\",\"watch\"]\n",
    "objs=[\"Baseball\",\"Cricket\"]\n",
    "\n",
    "l=[(x+ \" \" + y +\" \"+ z) for x in subs for y in verbs for z in objs]\n",
    "for sen in l:\n",
    "    print(sen)\n"
   ]
  },
  {
   "cell_type": "code",
   "execution_count": null,
   "metadata": {},
   "outputs": [],
   "source": []
  }
 ],
 "metadata": {
  "kernelspec": {
   "display_name": "Python 3",
   "language": "python",
   "name": "python3"
  },
  "language_info": {
   "codemirror_mode": {
    "name": "ipython",
    "version": 3
   },
   "file_extension": ".py",
   "mimetype": "text/x-python",
   "name": "python",
   "nbconvert_exporter": "python",
   "pygments_lexer": "ipython3",
   "version": "3.7.2"
  }
 },
 "nbformat": 4,
 "nbformat_minor": 4
}
