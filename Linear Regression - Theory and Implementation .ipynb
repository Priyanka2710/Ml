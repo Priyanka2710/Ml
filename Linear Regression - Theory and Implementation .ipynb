{
 "cells": [
  {
   "cell_type": "markdown",
   "metadata": {},
   "source": [
    "# Linear Regression"
   ]
  },
  {
   "cell_type": "markdown",
   "metadata": {},
   "source": [
    "* **Regression** in statistics is the process of predicting a Label(or Dependent Variable) based on the features(Independent Variables) at hand."
   ]
  },
  {
   "cell_type": "markdown",
   "metadata": {},
   "source": [
    "### 1. Simple Linear Regression\n",
    "\n",
    "Simple Linear regression is a method for predicting a **Label** using a **Single Feature**. The mathematical equation is:\n",
    "\n",
    "$y = \\beta_0 + \\beta_1 x$\n",
    "\n",
    "Where\n",
    "- $y$ -- the target variable\n",
    "- $x$ -- the feature\n",
    "- $\\beta_1$ -- the coefficient of x\n",
    "- $\\beta_0$ -- the intercept\n",
    "\n",
    "$\\beta_0$ and $\\beta_1$ -- **model coefficients**. \n",
    "\n",
    "To create a model, we must **\"Learn\" the values of these coefficients**.\n",
    "\n",
    "#### Learning - Estimating  Model Coefficients\n",
    "\n",
    "The coefficients are calculated by finding the **Bst Ft Lne**. \n",
    "\n",
    "**Best Fit Line** is the Line whose sum of squares of residuals is minimum.\n",
    "    \n",
    "    Q1. What is Residual ?\n",
    "    Q2. What is Sum of Squares of residuals ?\n",
    "    Q3. How do we minimize it ?"
   ]
  },
  {
   "cell_type": "markdown",
   "metadata": {},
   "source": [
    "1. Residual is the distance between the actual Y and the predicted Y, as shown below:\n",
    "<img src=\"residual.png\" width=\"250\">"
   ]
  },
  {
   "cell_type": "markdown",
   "metadata": {},
   "source": [
    "\n",
    "Mathematically,\n",
    "\n",
    "1. Residual Of one Point   \n",
    "$$  r_i = y_i - (mx_i + b) $$ \n",
    "\n",
    "1.1. Sum Of  residuals   \n",
    "$$ \\sum_{i=1}^n r_i = \\sum y_i - (mx_i + b) $$  \n",
    "\n",
    "2. Sum of Squares of Residuals\n",
    "$$ R(x) = \\sum r_i^2 = \\sum (y_i - (mx_i + b))^2 $$"
   ]
  },
  {
   "cell_type": "markdown",
   "metadata": {},
   "source": [
    "3. Now we can minimize the residual by finding its derivative and equating that to 0. and as the Residual is a function of both m and b we will partially differentiate the function with them.\n",
    "\n",
    "Partial derivatives are :\n",
    "<img src=\"partialDerivatives.png\" width=\"230\">\n",
    "\n",
    "Now Equating both of these Eqns to 0, to get the Minima of the Residue.\n",
    "\n",
    "\n",
    "and after calulating finally we get:\n",
    "<img src=\"matrix1.png\" width=\"250\">"
   ]
  },
  {
   "cell_type": "markdown",
   "metadata": {},
   "source": [
    "The new values for 'slope' and 'intercept' are caluclated as follows :\n",
    "\n",
    "Initially the value of intercept and slope is chosen randomly, and then improved as follows.\n",
    "\n",
    "Repeat untill convergence **{**\n",
    "\n",
    "$$  intercept = intercept - \\alpha  \\times  \\frac {\\sum Loss}{n}$$\n",
    "\n",
    "$$ Slope = Slope - \\alpha  \\times  \\frac {\\sum Loss}{n}    $$  **}**\n",
    "\n",
    "- $\\alpha$ is the learning rate, (Google Tensor board recommends a Learning rate between 0.00001 and 10. Generally a smaller learning rate is recommended to avoid overshooting\n",
    "- n - No. of samples"
   ]
  },
  {
   "cell_type": "markdown",
   "metadata": {},
   "source": [
    "Now as we have the values for m and b, i.e. our model is ready.\n",
    "\n",
    "### But,  how well the model fits our data ?\n",
    "### $R^2$ statistics\n",
    "\n",
    "The R-squared statistic provides a measure of fit. \n",
    "\n",
    "it always takes on a value between 0 and 1. \n",
    "\n",
    "In simple words, it represents how much of our data is being explained by our model."
   ]
  },
  {
   "cell_type": "markdown",
   "metadata": {},
   "source": [
    "Mathematically $R^2$ statistic is calculated as :\n",
    "$$ R^2  = 1 - \\frac{RSS}{TSS}$$\n",
    "\n",
    "Where RSS:  is  the Residual Sum of Squares and is given as :\n",
    "$$ RSS = \\sum_{i=1}^n (y_i - \\hat y_i)^2 $$\n",
    "- $\\hat y$ - Predicted y values                                                                \n",
    "\n",
    "TSS:  is  the Total Sum of Squares and given as :\n",
    "$$ TSS = \\sum (y_i - \\bar y)^2 $$\n",
    "- $\\bar y$ - Mean of Actual y values"
   ]
  },
  {
   "cell_type": "markdown",
   "metadata": {},
   "source": [
    "The closer the value of $R^2$ is to 1 the better the model fits our data. If $R^2$ comes below 0 (which is a possibility) that means the model is so bad that it is performing even worse than the average best fit line.\n",
    "\n",
    "\n",
    "\n",
    "### Limitation :\n",
    "\n",
    "<img src=\"adjr.PNG\" width=\"400\">\n",
    "As No. of Features $\\uparrow$ - Value of RSS $\\downarrow$ - and value of $R^2 \\uparrow$\n",
    "\n",
    "Even if we add weakly correleted features to the data, the value of $R^2$ will increase, but that doesn't mean that our model is predicting better results.\n",
    "\n",
    "To rectify this problem, we use Adjusted R2 value which penalises excessive use of such features which do not correlate with the output data. "
   ]
  },
  {
   "cell_type": "markdown",
   "metadata": {},
   "source": [
    "### Adjusted $R^2$\n",
    "\n",
    "$$ R^2_{Adjusted} = 1 - \\frac{(1-R^2)(N-1)}{N-1-p}$$\n",
    "\n",
    "Where:\n",
    "* N - Total sample size\n",
    "* p = No. of predictors\n",
    "\n",
    "In the equation above, when p = 0, we can see that adjusted $R^2$ becomes equal to $R^2$.\n",
    "Thus, adjusted $R^2$  will always be less than or equal to $R^2$, and it penalises the excess of independent variables which do not affect the dependent variable. but this again generally [under-penalizes complexity](http://scott.fortmann-roe.com/docs/MeasuringError.html).\n",
    "\n",
    "a better approach to feature selection is**Cross-validation.** It provides a more reliable way to choose which of the created models will best **generalise** as it better estimates of out-of-sample error. An advantage is that the cross-validation method can be applied to any machine learning model and the scikit-learn package provides extensive functionality for that."
   ]
  },
  {
   "cell_type": "markdown",
   "metadata": {},
   "source": [
    "## Model Confidence\n",
    "\n",
    "**Question:** Is linear regression a low bias/high variance model or a high bias/low variance model?\n",
    "\n",
    "**Answer:** It's a High bias/low variance model. \n",
    "\n",
    "Even after repeated sampling, the best fit line will stay roughly in the same position (i.e. low variance), but the average of the models created after repeated sampling won't do a great job in capturing the perfect relationship (i.e. high bias). Low variance is helpful when we have big training data! \n",
    "\n",
    "If the model has calculated a 95% confidence for our model coefficients, it can be interpreted as follows: \n",
    "\n",
    "If the population from which this sample is drawn, is **sampled 100 times**, then approximately **95 (out of 100) of those confidence intervals** shall contain the \"true\" coefficients.\n"
   ]
  },
  {
   "cell_type": "markdown",
   "metadata": {},
   "source": [
    "### Hypothesis Testing and p-values\n",
    "The conventional hypothesis test is as follows:\n",
    "- **Null hypothesis:** No relationship exists between TV advertisements and Sales (and hence $\\beta_1$ equals zero).\n",
    "- **Alternative hypothesis:** There exists a relationship between TV advertisements and Sales (and hence, $\\beta_1$ is not equal to zero).\n",
    "\n",
    "How do we test this? We reject the null hypothesis (and thus believe the alternative hypothesis) if the 95% confidence interval **does not include zero**. The **p-value** represents the probability of the coefficient actually being zero.\n",
    "\n",
    "If the 95% confidence interval **includes zero**, the p-value for that coefficient will be **greater than 0.05**. If the 95% confidence interval **does not include zero**, the p-value will be **less than 0.05**. \n",
    "\n",
    "Thus, a p-value of less than 0.05 is a way to decide whether there is any relationship between the feature in consideration and the response or not. Using 0.05 as the cutoff is just a convention."
   ]
  },
  {
   "cell_type": "markdown",
   "metadata": {},
   "source": [
    "## Multi- Collinearity\n",
    "\n",
    "**Origin of the word:** The word multi-collinearity consists of two words:Multi, meaning multiple, and Collinear, meaning being linearly dependent on each other. \n",
    "\n",
    "* **Definition :** We can define multi-collinearity as the situation where the independent variables (or the predictors) have strong correlation amongst themselves.\n",
    "\n",
    "#### Why Should We Care About Multi-Collinearity?\n",
    "\n",
    "* The coefficients in a Linear Regression model represent the change in Y when a certain x (amongst X1,X2,X3…) is changed keeping others constant. But, if x1 and x2 are dependent, then this assumption itself is wrong that we are changing one variable keeping others constant as the dependent variable will also be changed. It means that our model itself becomes a bit flawed.\n",
    "\n",
    "* We have a redundancy in our model as two variables (or more than two) are trying to convey the same information.\n",
    "\n",
    "* As the extent of the collinearity increases, there is a chance that we might produce an overfitted model. An overfitted model works well with the test data but its accuracy fluctuates when exposed to other data sets. \n",
    "\n",
    "* Hence Ideally We should look for 0 Correlation, but practically we try to get a value as close as **0** as possible\n",
    "  \n",
    "      -0.1 to -0.3 & 0.1 to 0.3  Low Correlation\n",
    "      -0.3 to -0.5 & 0.3 to 0.5  Medium Correlation\n",
    "      -0.5 to -1.0 & 0.5 to 1    High Correlation   "
   ]
  },
  {
   "cell_type": "markdown",
   "metadata": {},
   "source": [
    "#### Detecting the Multi Colinearity\n",
    "\n",
    "1. __Correlation Matrices and Plots:__ for correlation between all the X variables. The plot shows the extent of correlation amongst the independent variables. Generally, a correlation greater than 0.9 or less than -0.9 is to be avoided.\n",
    "\n",
    "* Peason Correlation Coefficient should be close to '0'.\n",
    "\n",
    "* __Variance Inflation Factor:__ Regression of one X variable against another X variables.\n",
    "\n",
    "     $$ VIF= \\frac {1}{(1-R squared)}$$\n",
    "\n",
    "            The VIF factor, if greater than 10 shows extreme correlation between the variables and then we need to take care of the correlation.\n"
   ]
  },
  {
   "cell_type": "markdown",
   "metadata": {},
   "source": [
    "#### Remedies for Multicollinearity\n",
    "\n",
    "* **Do Nothing:** If the Correlation is not that extreme, we can ignore it. If the correlated variables are not used in solving our business question, they can be ignored.\n",
    "* **Remove One Variable**: Like in dummy variable trap\n",
    "* **Combine the correlated variables:** Like creating a seniority score based on Age and Years of experience\n",
    "* Principal Component Analysis"
   ]
  },
  {
   "cell_type": "markdown",
   "metadata": {},
   "source": [
    "### Regularization \n",
    "\n",
    "When we use regression models to train some data, there is a good chance that the model will overfit the given training data set.  \n",
    "\n",
    "**Regularization helps sort this overfitting problem** by restricting the degrees of freedom of a given equation i.e. simply reducing the number of degrees of a polynomial function by reducing their corresponding weights.\n",
    "\n",
    "In a linear equation, we do not want huge weights/coefficients, Because a small change in weight can make a large difference for the dependent variable (Y). So, regularization constraints the weights of such features to avoid overfitting. \n",
    "\n",
    "Simple linear regression is given as:\n",
    "\n",
    "$y = \\beta_0 + \\beta_1x1+ \\beta_2x2 +\\beta_3x3+...+\\beta_PxP$\n",
    "\n",
    "Using the OLS method, we try to minimize the cost function given as:\n",
    "\n",
    "$$ RSS = \\sum_{i=1}^n \\left( y_i - \\beta_0 - \\sum_{j=1}^p \\beta_j x_{ij} \\right)^2 $$\n",
    "\n",
    "To regularize the model, a Shrinkage penalty is added to the cost function.\n",
    "Let’s see different types of regularizations in regression:"
   ]
  },
  {
   "cell_type": "markdown",
   "metadata": {},
   "source": [
    "#### 6.2.1. LASSO(Least Absolute Shrinkage and Selection Operator) Regression (L1 Form)\n",
    "LASSO regression penalizes the model based on the sum of magnitude of the coefficients. The regularization term is given by\n",
    "\n",
    " $$ Regularization =  \\lambda  \\sum  |\\beta_j| $$\n",
    "\n",
    "Where, λ is the shrinkage factor.\n",
    "\n",
    "and hence the formula for loss after regularization is:\n",
    "\n",
    "$$ = \\sum_{i=1}^n \\left(y_i - \\beta_0 - \\sum_{j=1}^p \\beta_j x_{ij} \\right)^2 + \\lambda \\sum_{j=1}^p |\\beta_j| $$\n",
    "$$ = RSS + \\lambda \\sum_{j=1}^p |\\beta_j| $$"
   ]
  },
  {
   "cell_type": "markdown",
   "metadata": {},
   "source": [
    "#### 6.2.2. Ridge Regression (L2 Form)\n",
    "Ridge regression penalizes the model based on the sum of squares of magnitude of the coefficients. The regularization term is given by\n",
    "\n",
    "$$ Regularization =  \\lambda \\sum  |\\beta_j^2| $$\n",
    "\n",
    "Where, λ is the shrinkage factor.\n",
    "\n",
    "and hence the formula for loss after regularization is:\n",
    "$$ RSS + \\lambda \\sum_{j=1}^p |\\beta_j^2|  $$\n",
    "\n",
    "The value of lambda can be anything and should be calculated by cross validation as to what suits the model."
   ]
  },
  {
   "cell_type": "markdown",
   "metadata": {},
   "source": [
    "#### 6.2.3. Difference between Ridge and Lasso\n",
    "\n",
    "Ridge regression shrinks the coefficients for those predictors which contribute very less in the model but have huge weights, very close to zero. But it never makes them exactly zero. \n",
    "\n",
    "Thus, the final model will still contain all those predictors, though with less weights. This doesn’t help in interpreting the model very well. \n",
    "\n",
    "This is where Lasso regression differs with Ridge regression. In Lasso, the L1 penalty does reduce some coefficients exactly to zero when we use a sufficiently large tuning parameter λ. So, in addition to regularizing, lasso also performs feature selection."
   ]
  },
  {
   "cell_type": "markdown",
   "metadata": {},
   "source": [
    "#### 6.2.4. Elastic Net\n",
    "\n",
    "According to the Hands-on Machine Learning book, elastic Net is a middle ground between Ridge Regression and Lasso Regression. The regularization term is a simple mix of both Ridge and Lasso’s regularization terms, and you can control the mix ratio α. \n",
    "\n",
    "<img src=\"elasticNet.PNG\" width=\"600\">\n",
    "where α is the mixing parameter between ridge (α = 0) and lasso (α = 1)."
   ]
  },
  {
   "cell_type": "markdown",
   "metadata": {},
   "source": [
    "#### 6.2.5. Why use Regularization?\n",
    "\n",
    "Regularization helps to reduce the variance of the model, without a substantial increase in the bias. \n",
    "\n",
    "If there is variance in the model that means that the model won’t fit well for dataset other than training data. \n",
    "\n",
    "The tuning parameter λ controls this bias and variance tradeoff. When the value of λ is increased up to a certain limit, it reduces the variance without losing any important properties in the data. But after a certain limit, the model will start losing some important properties which will increase the bias in the data. Thus, the selection of good value of λ is the key.\n",
    "\n",
    "The value of λ is selected using cross-validation methods. A set of λ is selected and cross-validation error is calculated for each value of λ and that value of λ is selected for which the cross-validation error is minimum."
   ]
  },
  {
   "cell_type": "markdown",
   "metadata": {},
   "source": [
    "#### 6.2.6.  **When should you use plain Linear Regression (i.e., without any regularization), Ridge, Lasso, or Elastic Net?**\n",
    "\n",
    "According to the Hands-on Machine Learning book, it is almost always preferable to have at least a little bit of regularization, so generally you should avoid plain Linear Regression. \n",
    "\n",
    "Ridge is a good default, but if you suspect that only a few features are actually useful, you should prefer Lasso or Elastic Net since they tend to reduce the useless feature's weights down to zero as we have discussed. \n",
    "\n",
    "In general, Elastic Net is preferred over Lasso since Lasso may behave erratically when the number of features is greater than the number of training instances or when several features are strongly correlated."
   ]
  },
  {
   "cell_type": "markdown",
   "metadata": {},
   "source": [
    "### Polynomial Regression\n",
    "\n",
    "Simply a polynomial is an aggregation of many monomials(or Variables). A simple polynomial equation can be written as:\n",
    "$$y = {a+bx + cx^2+...+nx^n+...}$$\n",
    "\n",
    "So, Polynomial Regression can be defined as a mechanism to predict a _dependent variable_ based on the polynomial relationship with the _independent variable_.\n",
    "\n",
    " In the equation, _$$y= {a+bx + cx^2+...+nx^n+...}$$_ the maximum power of 'x' is called the degree of the polynomial equation."
   ]
  },
  {
   "cell_type": "markdown",
   "metadata": {},
   "source": [
    "### When to use Polynomial Regression?\n",
    "\n",
    "If the graph between a dependent and independent variables looks like:\n",
    "<img src=\"PolynomialGraph.png\" width=\"200\">\n",
    "\n",
    "It means that the relationship between X and Y can't be described Linearly.\n",
    "Then comes the time to use the Polynomial Regression."
   ]
  },
  {
   "cell_type": "markdown",
   "metadata": {},
   "source": [
    "We can generalize the matrix obtained for Linear Regression, for an equation of 'n' coefficients (in y=mx+b, m and b are the coefficients) as follows: \n",
    "![image.png](generalEquation.png)\n",
    "\n",
    "Where m is the _degree_(maximum power of x) of the polynomial and n is the number of observation points.\n",
    "\n",
    "The above matrix results in the general formula for Polynomial Regression."
   ]
  },
  {
   "cell_type": "markdown",
   "metadata": {},
   "source": [
    "Let's do step by step implementation of linear regression Algorithm to know the Structure of code."
   ]
  },
  {
   "cell_type": "markdown",
   "metadata": {},
   "source": [
    "# Importing the libraries"
   ]
  },
  {
   "cell_type": "code",
   "execution_count": 2,
   "metadata": {},
   "outputs": [],
   "source": [
    "import numpy as np\n",
    "import matplotlib.pyplot as plt\n",
    "import pandas as pd"
   ]
  },
  {
   "cell_type": "markdown",
   "metadata": {},
   "source": [
    "## Importing the dataset"
   ]
  },
  {
   "cell_type": "code",
   "execution_count": 4,
   "metadata": {},
   "outputs": [],
   "source": [
    "dataset = pd.read_csv(r'C:\\Users\\Priyanka\\Downloads\\Machine+Learning+A-Z+(Codes+and+Datasets) (2)\\Machine Learning A-Z (Codes and Datasets)\\Part 2 - Regression\\Section 4 - Simple Linear Regression\\python\\Salary_data.csv')\n",
    "X = dataset.iloc[:, :-1].values\n",
    "Y = dataset.iloc[:, -1].values                      \n",
    "                      "
   ]
  },
  {
   "cell_type": "code",
   "execution_count": 5,
   "metadata": {},
   "outputs": [
    {
     "data": {
      "text/html": [
       "<div>\n",
       "<style scoped>\n",
       "    .dataframe tbody tr th:only-of-type {\n",
       "        vertical-align: middle;\n",
       "    }\n",
       "\n",
       "    .dataframe tbody tr th {\n",
       "        vertical-align: top;\n",
       "    }\n",
       "\n",
       "    .dataframe thead th {\n",
       "        text-align: right;\n",
       "    }\n",
       "</style>\n",
       "<table border=\"1\" class=\"dataframe\">\n",
       "  <thead>\n",
       "    <tr style=\"text-align: right;\">\n",
       "      <th></th>\n",
       "      <th>YearsExperience</th>\n",
       "      <th>Salary</th>\n",
       "    </tr>\n",
       "  </thead>\n",
       "  <tbody>\n",
       "    <tr>\n",
       "      <th>0</th>\n",
       "      <td>1.1</td>\n",
       "      <td>39343.0</td>\n",
       "    </tr>\n",
       "    <tr>\n",
       "      <th>1</th>\n",
       "      <td>1.3</td>\n",
       "      <td>46205.0</td>\n",
       "    </tr>\n",
       "    <tr>\n",
       "      <th>2</th>\n",
       "      <td>1.5</td>\n",
       "      <td>37731.0</td>\n",
       "    </tr>\n",
       "    <tr>\n",
       "      <th>3</th>\n",
       "      <td>2.0</td>\n",
       "      <td>43525.0</td>\n",
       "    </tr>\n",
       "    <tr>\n",
       "      <th>4</th>\n",
       "      <td>2.2</td>\n",
       "      <td>39891.0</td>\n",
       "    </tr>\n",
       "  </tbody>\n",
       "</table>\n",
       "</div>"
      ],
      "text/plain": [
       "   YearsExperience   Salary\n",
       "0              1.1  39343.0\n",
       "1              1.3  46205.0\n",
       "2              1.5  37731.0\n",
       "3              2.0  43525.0\n",
       "4              2.2  39891.0"
      ]
     },
     "execution_count": 5,
     "metadata": {},
     "output_type": "execute_result"
    }
   ],
   "source": [
    "dataset.head()"
   ]
  },
  {
   "cell_type": "markdown",
   "metadata": {},
   "source": [
    "# Splitting the dataset into the Training set and Test set"
   ]
  },
  {
   "cell_type": "code",
   "execution_count": 6,
   "metadata": {},
   "outputs": [],
   "source": [
    "from sklearn.model_selection import train_test_split\n",
    "X_train, X_test, Y_train, Y_test=train_test_split(X,Y,test_size=0.2,random_state=1)"
   ]
  },
  {
   "cell_type": "markdown",
   "metadata": {},
   "source": [
    "# Training the Simple Linear Regression model on the Training set"
   ]
  },
  {
   "cell_type": "code",
   "execution_count": 7,
   "metadata": {},
   "outputs": [
    {
     "data": {
      "text/plain": [
       "LinearRegression(copy_X=True, fit_intercept=True, n_jobs=None, normalize=False)"
      ]
     },
     "execution_count": 7,
     "metadata": {},
     "output_type": "execute_result"
    }
   ],
   "source": [
    "from sklearn.linear_model import LinearRegression\n",
    "regressor = LinearRegression()\n",
    "regressor.fit(X_train,Y_train)"
   ]
  },
  {
   "cell_type": "markdown",
   "metadata": {},
   "source": [
    "# Predicting the Test set results"
   ]
  },
  {
   "cell_type": "code",
   "execution_count": 8,
   "metadata": {},
   "outputs": [],
   "source": [
    "y_pred = regressor.predict(X_test)"
   ]
  },
  {
   "cell_type": "markdown",
   "metadata": {},
   "source": [
    "# Visualising the Training set results"
   ]
  },
  {
   "cell_type": "code",
   "execution_count": 9,
   "metadata": {},
   "outputs": [
    {
     "data": {
      "image/png": "[encoded data removed]",
      "text/plain": [
       "<Figure size 432x288 with 1 Axes>"
      ]
     },
     "metadata": {
      "needs_background": "light"
     },
     "output_type": "display_data"
    }
   ],
   "source": [
    "plt.scatter(X_train,Y_train,color ='red')\n",
    "plt.plot(X_train,regressor.predict(X_train),color ='blue')\n",
    "plt.title('Salary Vs Experience (Training Set) ')\n",
    "plt.xlabel('Year Of Experience')\n",
    "plt.ylabel('Salary')\n",
    "plt.show()"
   ]
  },
  {
   "cell_type": "markdown",
   "metadata": {},
   "source": [
    "# Visualising the Test set results"
   ]
  },
  {
   "cell_type": "code",
   "execution_count": 11,
   "metadata": {},
   "outputs": [
    {
     "data": {
      "image/png": "[encoded data removed]",
      "text/plain": [
       "<Figure size 432x288 with 1 Axes>"
      ]
     },
     "metadata": {
      "needs_background": "light"
     },
     "output_type": "display_data"
    }
   ],
   "source": [
    "plt.scatter(X_test,Y_test,color ='red')\n",
    "plt.plot(X_train,regressor.predict(X_train),color ='blue')\n",
    "plt.title('Salary Vs Experience (Training Set) ')\n",
    "plt.xlabel('Year Of Experience')\n",
    "plt.ylabel('Salary')\n",
    "plt.show()"
   ]
  },
  {
   "cell_type": "code",
   "execution_count": null,
   "metadata": {},
   "outputs": [],
   "source": []
  }
 ],
 "metadata": {
  "kernelspec": {
   "display_name": "Python 3",
   "language": "python",
   "name": "python3"
  },
  "language_info": {
   "codemirror_mode": {
    "name": "ipython",
    "version": 3
   },
   "file_extension": ".py",
   "mimetype": "text/x-python",
   "name": "python",
   "nbconvert_exporter": "python",
   "pygments_lexer": "ipython3",
   "version": "3.7.6"
  },
  "pycharm": {
   "stem_cell": {
    "cell_type": "raw",
    "metadata": {
     "collapsed": false
    },
    "source": []
   }
  }
 },
 "nbformat": 4,
 "nbformat_minor": 2
}
